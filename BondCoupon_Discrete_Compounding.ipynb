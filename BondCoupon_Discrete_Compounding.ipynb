{
  "nbformat": 4,
  "nbformat_minor": 0,
  "metadata": {
    "colab": {
      "provenance": [],
      "authorship_tag": "ABX9TyOWGW+wbWT8zVwLI5JIwbjd",
      "include_colab_link": true
    },
    "kernelspec": {
      "name": "python3",
      "display_name": "Python 3"
    },
    "language_info": {
      "name": "python"
    }
  },
  "cells": [
    {
      "cell_type": "markdown",
      "metadata": {
        "id": "view-in-github",
        "colab_type": "text"
      },
      "source": [
        "<a href=\"https://colab.research.google.com/github/adaryass/Bond-Code/blob/main/BondCoupon_Discrete_Compounding.ipynb\" target=\"_parent\"><img src=\"https://colab.research.google.com/assets/colab-badge.svg\" alt=\"Open In Colab\"/></a>"
      ]
    },
    {
      "cell_type": "markdown",
      "source": [
        "Here, we calculate the present value of a coupon bond.\n",
        "\n",
        "Under discrete compounding\n",
        "\n",
        "$$\n",
        "B(T, c) = \\sum_{t=1}^{T} c_t \\cdot \\frac{1}{(1 + y)^t} + V_T \\cdot \\frac{1}{(1 + y)^T}\n",
        "$$\n",
        "\n",
        "\n",
        "\n",
        "*   $V_T$ : Principal\n",
        "\n",
        "*   T :  years to maturity\n",
        "* $ c_t$ : Coupon payment at time t\n",
        "* y : interest rate"
      ],
      "metadata": {
        "id": "F8M-zbUm1mTf"
      }
    },
    {
      "cell_type": "code",
      "execution_count": 4,
      "metadata": {
        "colab": {
          "base_uri": "https://localhost:8080/"
        },
        "id": "qGXJoliCzvaI",
        "outputId": "dd39f950-974a-4fd2-8f56-217cbd583264"
      },
      "outputs": [
        {
          "output_type": "stream",
          "name": "stdout",
          "text": [
            "Bond price: 6335.55\n"
          ]
        }
      ],
      "source": [
        "\n",
        "class CouponBond:\n",
        "\n",
        "    def __init__(self, principal, rate, maturity, interest_rate):\n",
        "        self.principal = principal\n",
        "        self.rate = rate / 100\n",
        "        self.maturity = maturity\n",
        "        self.interest_rate = interest_rate / 100\n",
        "\n",
        "    def present_value(self, x, n):\n",
        "        return x / (1+self.interest_rate)**n\n",
        "\n",
        "    def calculate_price(self):\n",
        "\n",
        "        price = 0\n",
        "\n",
        "        # discount the coupon payments\n",
        "        for t in range(1, self.maturity+1):\n",
        "            price = price + self.present_value(self.principal * self.rate, t)\n",
        "\n",
        "        # discount principle amount\n",
        "        price = price + self.present_value(self.principal, self.maturity)\n",
        "\n",
        "        return price\n",
        "\n",
        "\n",
        "if __name__ == '__main__':\n",
        "\n",
        "    bond = CouponBond(5000, 10, 5, 4)\n",
        "    print(\"Bond price: %.2f\" % bond.calculate_price())\n"
      ]
    }
  ]
}