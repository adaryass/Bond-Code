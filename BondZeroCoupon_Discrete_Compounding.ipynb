{
  "cells": [
    {
      "cell_type": "markdown",
      "metadata": {
        "id": "view-in-github",
        "colab_type": "text"
      },
      "source": [
        "<a href=\"https://colab.research.google.com/github/adaryass/Bond-Code/blob/main/BondZeroCoupon_Discrete_Compounding.ipynb\" target=\"_parent\"><img src=\"https://colab.research.google.com/assets/colab-badge.svg\" alt=\"Open In Colab\"/></a>"
      ]
    },
    {
      "cell_type": "markdown",
      "metadata": {
        "id": "vwnNlNIEwoZ8"
      },
      "source": [
        "Pour en savoir plus sur l'accélération de pandas dans Colab, consultez le <a href=\"https://colab.research.google.com/github/rapidsai-community/showcase/blob/main/getting_started_tutorials/cudf_pandas_colab_demo.ipynb\">guide de 10 minutes</a> ou la <a href=\"https://colab.research.google.com/github/rapidsai-community/showcase/blob/main/getting_started_tutorials/cudf_pandas_stocks_demo.ipynb\">démo d'analyse des données boursières aux États-Unis</a>."
      ]
    },
    {
      "cell_type": "markdown",
      "source": [],
      "metadata": {
        "id": "CP8xYq5mwYSx"
      }
    },
    {
      "cell_type": "markdown",
      "source": [],
      "metadata": {
        "id": "0iZI3TK7wYK-"
      }
    },
    {
      "cell_type": "markdown",
      "source": [
        "Here, we calculate the present value of a zero-coupon bond.\n",
        "\n",
        "Under discrete compounding\n",
        "$$\n",
        "B(T) = V_T \\cdot \\frac{1}{(1 + y)^T}\n",
        "$$\n",
        "* $V_T$ :  Principal\n",
        "* T     : years to maturity\n",
        "* y     :  interest rate\n",
        "\n",
        "\n",
        "\n",
        "\n",
        "\n",
        "\n"
      ],
      "metadata": {
        "id": "NpVDfF5bkKrD"
      }
    },
    {
      "cell_type": "code",
      "source": [
        "class ZeroCouponBonds:\n",
        "\n",
        "  def __init__(self, principal, maturity, interest_rate):\n",
        "    # Principal Amount\n",
        "    self.principal = principal\n",
        "    # Date to maturity\n",
        "    self.maturity = maturity\n",
        "    # Market Interest Rate (discounting)\n",
        "    self.interest_rate = interest_rate/100\n",
        "\n",
        "  def present_value(self, x, n):\n",
        "    return x/(1+self.interest_rate)**n\n",
        "\n",
        "  def calculate_price(self):\n",
        "    return self.present_value(self.principal, self.maturity)\n",
        "\n",
        "if __name__ == \"__main__\":\n",
        "  bond = ZeroCouponBonds(5000, 5, 4)\n",
        "  print(\"Bond price: %.2f\" % bond.calculate_price())"
      ],
      "metadata": {
        "colab": {
          "base_uri": "https://localhost:8080/"
        },
        "id": "T4UqRf-AkJU-",
        "outputId": "294eb790-bfed-4018-dd35-d814a2e9acf8"
      },
      "execution_count": null,
      "outputs": [
        {
          "output_type": "stream",
          "name": "stdout",
          "text": [
            "Bond price: 4109.64\n"
          ]
        }
      ]
    }
  ],
  "metadata": {
    "colab": {
      "provenance": [],
      "include_colab_link": true
    },
    "kernelspec": {
      "display_name": "Python 3",
      "name": "python3"
    }
  },
  "nbformat": 4,
  "nbformat_minor": 0
}